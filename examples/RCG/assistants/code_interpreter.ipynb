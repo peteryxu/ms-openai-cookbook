{
 "cells": [
  {
   "cell_type": "markdown",
   "metadata": {},
   "source": [
    "https://www.mlq.ai/openai-assistants-api-getting-started/"
   ]
  },
  {
   "cell_type": "code",
   "execution_count": 1,
   "metadata": {},
   "outputs": [],
   "source": [
    "from openai import OpenAI\n",
    "client = OpenAI()"
   ]
  },
  {
   "cell_type": "code",
   "execution_count": 2,
   "metadata": {},
   "outputs": [],
   "source": [
    "assistant = client.beta.assistants.create(\n",
    "    name=\"ML Code Helper\",\n",
    "    instructions=\"You are an assistant that helps with machine learning coding problems. Write, run, and explain code to answer questions.\",\n",
    "    tools=[{\"type\": \"code_interpreter\"}],\n",
    "    model=\"gpt-4-1106-preview\"\n",
    ")"
   ]
  },
  {
   "cell_type": "code",
   "execution_count": 4,
   "metadata": {},
   "outputs": [
    {
     "name": "stdout",
     "output_type": "stream",
     "text": [
      "Thread(id='thread_0da3C8ub9meVA9kgllmfRqFo', created_at=1699649084, metadata={}, object='thread')\n"
     ]
    }
   ],
   "source": [
    "thread = client.beta.threads.create()\n",
    "print(thread)"
   ]
  },
  {
   "cell_type": "code",
   "execution_count": 6,
   "metadata": {},
   "outputs": [
    {
     "name": "stdout",
     "output_type": "stream",
     "text": [
      "ThreadMessage(id='msg_HUnfSfwlzgLXT5yN0NDInhf6', assistant_id=None, content=[MessageContentText(text=Text(annotations=[], value=\"When I try to calculate the cost for my linear regression, I get a 'ValueError: operands could not be broadcast together with shapes (100,) (100,1)'. Here's the part where it fails: `cost = (1/(2*m)) * np.sum(np.square(y_pred - y))`. Can you help me figure out why this is happening?\"), type='text')], created_at=1699649192, file_ids=[], metadata={}, object='thread.message', role='user', run_id=None, thread_id='thread_0da3C8ub9meVA9kgllmfRqFo')\n"
     ]
    }
   ],
   "source": [
    "# User is asking for help with their Python code for a linear regression cost function\n",
    "message = client.beta.threads.messages.create(\n",
    "    thread_id=thread.id,\n",
    "    role=\"user\",\n",
    "    content=\"When I try to calculate the cost for my linear regression, I get a 'ValueError: operands could not be broadcast together with shapes (100,) (100,1)'. Here's the part where it fails: `cost = (1/(2*m)) * np.sum(np.square(y_pred - y))`. Can you help me figure out why this is happening?\"\n",
    ")\n",
    "print(message)"
   ]
  },
  {
   "cell_type": "code",
   "execution_count": 7,
   "metadata": {},
   "outputs": [],
   "source": [
    "run = client.beta.threads.runs.create(\n",
    "  thread_id=thread.id,\n",
    "  assistant_id=assistant.id,\n",
    "  instructions=\"Please explain the solution in a simple way so the user can learn from it.\"\n",
    ")"
   ]
  },
  {
   "cell_type": "code",
   "execution_count": 11,
   "metadata": {},
   "outputs": [
    {
     "name": "stdout",
     "output_type": "stream",
     "text": [
      "Run(id='run_VsxKcSk5sXOnSZfxizMdDlWz', assistant_id='asst_rYE6ymXEq4AgzhVaX5bLustz', cancelled_at=None, completed_at=None, created_at=1699649285, expires_at=1699649885, failed_at=None, file_ids=[], instructions='Please explain the solution in a simple way so the user can learn from it.', last_error=None, metadata={}, model='gpt-4-1106-preview', object='thread.run', required_action=None, started_at=None, status='queued', thread_id='thread_0da3C8ub9meVA9kgllmfRqFo', tools=[ToolAssistantToolsCode(type='code_interpreter')])\n"
     ]
    }
   ],
   "source": [
    "print(run)"
   ]
  },
  {
   "cell_type": "code",
   "execution_count": 12,
   "metadata": {},
   "outputs": [],
   "source": [
    "run = client.beta.threads.runs.retrieve(\n",
    "  thread_id=thread.id,\n",
    "  run_id=run.id\n",
    ")"
   ]
  },
  {
   "cell_type": "code",
   "execution_count": 13,
   "metadata": {},
   "outputs": [
    {
     "name": "stdout",
     "output_type": "stream",
     "text": [
      "Run(id='run_VsxKcSk5sXOnSZfxizMdDlWz', assistant_id='asst_rYE6ymXEq4AgzhVaX5bLustz', cancelled_at=None, completed_at=1699649298, created_at=1699649285, expires_at=None, failed_at=None, file_ids=[], instructions='Please explain the solution in a simple way so the user can learn from it.', last_error=None, metadata={}, model='gpt-4-1106-preview', object='thread.run', required_action=None, started_at=1699649286, status='completed', thread_id='thread_0da3C8ub9meVA9kgllmfRqFo', tools=[ToolAssistantToolsCode(type='code_interpreter')])\n"
     ]
    }
   ],
   "source": [
    "print(run)"
   ]
  },
  {
   "cell_type": "code",
   "execution_count": 14,
   "metadata": {},
   "outputs": [],
   "source": [
    "messages = client.beta.threads.messages.list(\n",
    "  thread_id=thread.id\n",
    ")"
   ]
  },
  {
   "cell_type": "code",
   "execution_count": 15,
   "metadata": {},
   "outputs": [
    {
     "name": "stdout",
     "output_type": "stream",
     "text": [
      "The error you're seeing, \"ValueError: operands could not be broadcast together with shapes (100,) (100,1)\", happens because `y_pred` and `y` have incompatible shapes for the subtraction operation you're attempting. In this case, `y_pred` seems to have the shape `(100,)`, which means it's a 1-dimensional array with 100 elements, while `y` seems to have the shape `(100,1)`, which means it's a 2-dimensional array with 100 rows and 1 column.\n",
      "\n",
      "NumPy broadcasting allows you to perform arithmetic operations on arrays of different shapes, but certain rules must be met for it to work. When you try to subtract a 2-D array with shape `(100,1)` from a 1-D array with shape `(100,)`, broadcasting fails because the trailing dimensions do not match.\n",
      "\n",
      "To fix this, you should ensure that both `y_pred` and `y` have the same shape. You could either:\n",
      "\n",
      "1. Reshape `y_pred` to have two dimensions `(100, 1)` before doing the subtraction, or\n",
      "2. Flatten `y` to one dimension `(100,)` using `.flatten()` or `.ravel()` so that it matches `y_pred`.\n",
      "\n",
      "Since both solutions will essentially make the shapes compatible, you can choose either depending on what the rest of your code expects for these variables.\n",
      "\n",
      "I'll show you both ways to fix this:\n",
      "\n",
      "### Reshape `y_pred` to a 2-D array:\n",
      "```python\n",
      "y_pred = y_pred.reshape(-1, 1)  # This will reshape y_pred to (100, 1)\n",
      "```\n",
      "\n",
      "### Flatten `y` to a 1-D array:\n",
      "```python\n",
      "y = y.flatten()  # This will flatten y to (100,)\n",
      "```\n",
      "\n",
      "Now you can calculate the cost without encountering a shape mismatch error. Would you like to see a demonstration of this in Python code?\n"
     ]
    }
   ],
   "source": [
    "assistant_response = messages.data[0].content[0].text.value\n",
    "print(assistant_response)"
   ]
  }
 ],
 "metadata": {
  "kernelspec": {
   "display_name": ".venv",
   "language": "python",
   "name": "python3"
  },
  "language_info": {
   "codemirror_mode": {
    "name": "ipython",
    "version": 3
   },
   "file_extension": ".py",
   "mimetype": "text/x-python",
   "name": "python",
   "nbconvert_exporter": "python",
   "pygments_lexer": "ipython3",
   "version": "3.10.12"
  }
 },
 "nbformat": 4,
 "nbformat_minor": 2
}
